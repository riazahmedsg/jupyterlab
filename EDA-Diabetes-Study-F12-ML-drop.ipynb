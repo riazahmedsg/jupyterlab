{
 "cells": [
  {
   "cell_type": "markdown",
   "id": "d894c4d2-7a8e-4555-b989-0bf1a05064d5",
   "metadata": {},
   "source": [
    "## Package Imports"
   ]
  },
  {
   "cell_type": "code",
   "execution_count": 68,
   "id": "100b624d",
   "metadata": {
    "tags": []
   },
   "outputs": [],
   "source": [
    "import pandas as pd\n",
    "import numpy as np\n",
    "%matplotlib inline"
   ]
  },
  {
   "cell_type": "code",
   "execution_count": 69,
   "id": "047405d7-89bb-4adb-8986-c2d2aa37050e",
   "metadata": {
    "tags": []
   },
   "outputs": [],
   "source": [
    "from sklearn.ensemble import ExtraTreesClassifier\n",
    "from sklearn.tree import DecisionTreeClassifier\n",
    "from sklearn.ensemble import RandomForestClassifier\n",
    "import matplotlib.pyplot as plt\n",
    "import seaborn as sns\n",
    "from sklearn import preprocessing\n",
    "import warnings\n",
    "# !pip uninstall ydata-profiling\n",
    "# import ydata_profiling as pp\n",
    "\n",
    "\n",
    "from sklearn.model_selection import train_test_split\n",
    "from sklearn.svm import SVC\n",
    "from sklearn.metrics import accuracy_score\n"
   ]
  },
  {
   "cell_type": "markdown",
   "id": "b022b838-0727-42f5-bca0-29c39f1f4882",
   "metadata": {},
   "source": [
    "## Data Import"
   ]
  },
  {
   "cell_type": "code",
   "execution_count": 70,
   "id": "000814a1-779f-467a-80fc-1d7d078fa6b3",
   "metadata": {
    "tags": []
   },
   "outputs": [],
   "source": [
    "df = pd.read_csv('ml_data_drop.csv')"
   ]
  },
  {
   "cell_type": "code",
   "execution_count": 71,
   "id": "e1edbfb6-af22-4611-94b2-87d10ebcef09",
   "metadata": {
    "tags": []
   },
   "outputs": [],
   "source": [
    "# pp.ProfileReport(df)"
   ]
  },
  {
   "cell_type": "code",
   "execution_count": 72,
   "id": "20e528cb-ba1a-41fc-8336-db0b91b47727",
   "metadata": {
    "tags": []
   },
   "outputs": [
    {
     "name": "stdout",
     "output_type": "stream",
     "text": [
      "<class 'pandas.core.frame.DataFrame'>\n",
      "RangeIndex: 6388 entries, 0 to 6387\n",
      "Data columns (total 9 columns):\n",
      " #   Column      Non-Null Count  Dtype  \n",
      "---  ------      --------------  -----  \n",
      " 0   Patient_ID  6388 non-null   float64\n",
      " 1   Age         6388 non-null   float64\n",
      " 2   SBP         6388 non-null   int64  \n",
      " 3   BMI         6388 non-null   float64\n",
      " 4   LDL         6388 non-null   float64\n",
      " 5   HDL         6388 non-null   float64\n",
      " 6   TG          6388 non-null   float64\n",
      " 7   FBS         6388 non-null   float64\n",
      " 8   Diabetes    6388 non-null   int64  \n",
      "dtypes: float64(7), int64(2)\n",
      "memory usage: 449.3 KB\n"
     ]
    }
   ],
   "source": [
    "df.info()"
   ]
  },
  {
   "cell_type": "code",
   "execution_count": 73,
   "id": "f343b6e4-0cb5-4d5c-a864-c9497ed1b7e1",
   "metadata": {
    "tags": []
   },
   "outputs": [
    {
     "data": {
      "text/plain": [
       "(6388, 9)"
      ]
     },
     "execution_count": 73,
     "metadata": {},
     "output_type": "execute_result"
    }
   ],
   "source": [
    "df.shape"
   ]
  },
  {
   "cell_type": "markdown",
   "id": "7cc51c06-4d0c-46cb-b75e-a7962b425aeb",
   "metadata": {},
   "source": [
    "### Feature Selection:"
   ]
  },
  {
   "cell_type": "code",
   "execution_count": 74,
   "id": "433a5659-63f3-498a-893d-b7b00e37931b",
   "metadata": {
    "tags": []
   },
   "outputs": [
    {
     "name": "stdout",
     "output_type": "stream",
     "text": [
      "Index(['Patient_ID', 'Age', 'SBP', 'BMI', 'LDL', 'HDL', 'TG', 'FBS',\n",
      "       'Diabetes'],\n",
      "      dtype='object')\n"
     ]
    }
   ],
   "source": [
    "column_names = df.columns\n",
    "print(column_names)"
   ]
  },
  {
   "cell_type": "markdown",
   "id": "b3a5f4aa-95bb-4d55-9ae5-9cab5ed46151",
   "metadata": {},
   "source": [
    "## Classification Model Creation and training "
   ]
  },
  {
   "cell_type": "code",
   "execution_count": 75,
   "id": "3edd7057-a3c0-4b5b-97c7-b0853cbe0583",
   "metadata": {},
   "outputs": [],
   "source": [
    "data = df"
   ]
  },
  {
   "cell_type": "code",
   "execution_count": 76,
   "id": "f3008fc1-a48f-4721-b33a-71a501725a5d",
   "metadata": {
    "tags": []
   },
   "outputs": [],
   "source": [
    "X = data.iloc[:,0:8]  #independent columns\n",
    "y = data.iloc[:,-1] "
   ]
  },
  {
   "cell_type": "code",
   "execution_count": 77,
   "id": "d673fb8c-46f8-482c-b723-e76b1f372f72",
   "metadata": {
    "tags": []
   },
   "outputs": [
    {
     "data": {
      "text/plain": [
       "(6388, 8)"
      ]
     },
     "execution_count": 77,
     "metadata": {},
     "output_type": "execute_result"
    }
   ],
   "source": [
    "X.shape"
   ]
  },
  {
   "cell_type": "code",
   "execution_count": 78,
   "id": "1cc552d2-53a0-49ec-88a4-ad3ca13448ac",
   "metadata": {
    "tags": []
   },
   "outputs": [
    {
     "data": {
      "text/plain": [
       "(6388,)"
      ]
     },
     "execution_count": 78,
     "metadata": {},
     "output_type": "execute_result"
    }
   ],
   "source": [
    "y.shape"
   ]
  },
  {
   "cell_type": "markdown",
   "id": "4a47e451-7355-4aa5-a957-2fdc5cca4607",
   "metadata": {},
   "source": [
    "## DecisionTreeClassifier"
   ]
  },
  {
   "cell_type": "code",
   "execution_count": 79,
   "id": "255cea00-e7ec-4f1a-b9ab-b801baa2a2ff",
   "metadata": {
    "tags": []
   },
   "outputs": [
    {
     "name": "stdout",
     "output_type": "stream",
     "text": [
      "Accuracy: 0.7769953051643192\n",
      "Classification Report:\n",
      "              precision    recall  f1-score   support\n",
      "\n",
      "           0       0.80      0.79      0.80       703\n",
      "           1       0.75      0.77      0.76       575\n",
      "\n",
      "    accuracy                           0.78      1278\n",
      "   macro avg       0.77      0.78      0.78      1278\n",
      "weighted avg       0.78      0.78      0.78      1278\n",
      "\n",
      "Confusion Matrix:\n",
      "[[553 150]\n",
      " [135 440]]\n"
     ]
    }
   ],
   "source": [
    "import pandas as pd\n",
    "from sklearn.model_selection import train_test_split\n",
    "from sklearn.tree import DecisionTreeClassifier\n",
    "from sklearn.metrics import accuracy_score, classification_report, confusion_matrix\n",
    "\n",
    "\n",
    "# Split the data into training and testing sets (80% train, 20% test)\n",
    "X_train, X_test, y_train, y_test = train_test_split(X, y, test_size=0.2, random_state=42)\n",
    "\n",
    "# Create the Decision Tree classifier\n",
    "dt_model = DecisionTreeClassifier()\n",
    "\n",
    "# Train the Decision Tree model on the training data\n",
    "dt_model.fit(X_train, y_train)\n",
    "\n",
    "# Make predictions on the test data\n",
    "y_pred = dt_model.predict(X_test)\n",
    "\n",
    "# Calculate the accuracy of the model\n",
    "accuracy = accuracy_score(y_test, y_pred)\n",
    "print(\"Accuracy:\", accuracy)\n",
    "\n",
    "# Print the classification report and confusion matrix\n",
    "print(\"Classification Report:\")\n",
    "print(classification_report(y_test, y_pred))\n",
    "\n",
    "print(\"Confusion Matrix:\")\n",
    "print(confusion_matrix(y_test, y_pred))\n"
   ]
  },
  {
   "cell_type": "markdown",
   "id": "10827c90-60e4-40a2-b1c4-c42c7552740c",
   "metadata": {},
   "source": [
    "## RandomForestClassifier"
   ]
  },
  {
   "cell_type": "code",
   "execution_count": 80,
   "id": "05218fea-7249-4418-b686-12fc3c28ea1f",
   "metadata": {
    "tags": []
   },
   "outputs": [
    {
     "name": "stdout",
     "output_type": "stream",
     "text": [
      "Accuracy: 0.8286384976525821\n",
      "Classification Report:\n",
      "              precision    recall  f1-score   support\n",
      "\n",
      "           0       0.81      0.89      0.85       703\n",
      "           1       0.85      0.75      0.80       575\n",
      "\n",
      "    accuracy                           0.83      1278\n",
      "   macro avg       0.83      0.82      0.82      1278\n",
      "weighted avg       0.83      0.83      0.83      1278\n",
      "\n",
      "Confusion Matrix:\n",
      "[[629  74]\n",
      " [145 430]]\n"
     ]
    }
   ],
   "source": [
    "import pandas as pd\n",
    "from sklearn.model_selection import train_test_split\n",
    "from sklearn.ensemble import RandomForestClassifier\n",
    "from sklearn.metrics import accuracy_score, classification_report, confusion_matrix\n",
    "\n",
    "\n",
    "# Split the data into training and testing sets (80% train, 20% test)\n",
    "X_train, X_test, y_train, y_test = train_test_split(X, y, test_size=0.2, random_state=42)\n",
    "\n",
    "# Create the Random Forest classifier\n",
    "rf_model = RandomForestClassifier()\n",
    "\n",
    "# ... Your code to fit the RandomForestClassifier ...\n",
    "\n",
    "with warnings.catch_warnings():\n",
    "    warnings.simplefilter(\"ignore\")\n",
    "    # Make predictions with the RandomForestClassifier\n",
    "\n",
    "# Train the Random Forest model on the training data\n",
    "rf_model.fit(X_train, y_train)\n",
    "\n",
    "# Make predictions on the test data\n",
    "y_pred = rf_model.predict(X_test)\n",
    "\n",
    "# Calculate the accuracy of the model\n",
    "accuracy = accuracy_score(y_test, y_pred)\n",
    "print(\"Accuracy:\", accuracy)\n",
    "\n",
    "# Print the classification report and confusion matrix\n",
    "print(\"Classification Report:\")\n",
    "print(classification_report(y_test, y_pred))\n",
    "\n",
    "print(\"Confusion Matrix:\")\n",
    "print(confusion_matrix(y_test, y_pred))\n"
   ]
  },
  {
   "cell_type": "markdown",
   "id": "da456bb2-8379-4187-b293-7fc0a6490e90",
   "metadata": {},
   "source": [
    "## Crosss validation"
   ]
  },
  {
   "cell_type": "code",
   "execution_count": 81,
   "id": "1dc17c7e-24f1-4bd8-9b62-ffc9cd7e4282",
   "metadata": {
    "tags": []
   },
   "outputs": [],
   "source": [
    "import pandas as pd\n",
    "from sklearn.model_selection import cross_val_score\n",
    "from sklearn.svm import SVC\n",
    "from sklearn.tree import DecisionTreeClassifier\n",
    "from sklearn.ensemble import RandomForestClassifier\n"
   ]
  },
  {
   "cell_type": "code",
   "execution_count": 82,
   "id": "444bb7ab-7372-4c8c-a185-3c73ca46d2c4",
   "metadata": {
    "tags": []
   },
   "outputs": [],
   "source": [
    "# Create the Decision Tree model\n",
    "dt_model = DecisionTreeClassifier()\n",
    "dt_scores = cross_val_score(dt_model, X, y, cv=2)\n",
    "\n",
    "# Create the Random Forest model\n",
    "rf_model = RandomForestClassifier()\n",
    "rf_scores = cross_val_score(rf_model, X, y, cv=2)\n"
   ]
  },
  {
   "cell_type": "code",
   "execution_count": 83,
   "id": "d144d29a-abc7-4328-ba4b-24b23088eed9",
   "metadata": {},
   "outputs": [
    {
     "name": "stdout",
     "output_type": "stream",
     "text": [
      "Mean Decision Tree Cross-Validation Score: 0.7514088916718847\n",
      "Mean Random Forest Cross-Validation Score: 0.819818409517846\n",
      "Standard Deviation Decision Tree Cross-Validation Score: 0.0\n",
      "Standard Deviation Random Forest Cross-Validation Score: 0.0032874139010645176\n"
     ]
    }
   ],
   "source": [
    "print(\"Mean Decision Tree Cross-Validation Score:\", dt_scores.mean())\n",
    "print(\"Mean Random Forest Cross-Validation Score:\", rf_scores.mean())\n",
    "\n",
    "print(\"Standard Deviation Decision Tree Cross-Validation Score:\", dt_scores.std())\n",
    "print(\"Standard Deviation Random Forest Cross-Validation Score:\", rf_scores.std())\n"
   ]
  },
  {
   "cell_type": "markdown",
   "id": "1c38badf-b56e-4857-8aad-a90185b1ec73",
   "metadata": {},
   "source": [
    "## SVM"
   ]
  },
  {
   "cell_type": "code",
   "execution_count": 84,
   "id": "7e1e7d51-d27b-448d-9d21-6aa82358c9b8",
   "metadata": {},
   "outputs": [],
   "source": [
    "data = df"
   ]
  },
  {
   "cell_type": "code",
   "execution_count": 85,
   "id": "5dbc2683-7c5d-4a14-920e-0c9885b71a80",
   "metadata": {
    "tags": []
   },
   "outputs": [],
   "source": [
    "X = data.iloc[:,0:8]  #independent columns\n",
    "y = data.iloc[:,-1] "
   ]
  },
  {
   "cell_type": "code",
   "execution_count": 86,
   "id": "f29f1d77-b899-4455-aa4e-07857ebbf673",
   "metadata": {
    "tags": []
   },
   "outputs": [
    {
     "data": {
      "text/plain": [
       "(6388, 8)"
      ]
     },
     "execution_count": 86,
     "metadata": {},
     "output_type": "execute_result"
    }
   ],
   "source": [
    "X.shape"
   ]
  },
  {
   "cell_type": "code",
   "execution_count": 87,
   "id": "b3c1f546-ee2d-4341-9388-a7e9c76f2906",
   "metadata": {
    "tags": []
   },
   "outputs": [
    {
     "data": {
      "text/plain": [
       "(6388,)"
      ]
     },
     "execution_count": 87,
     "metadata": {},
     "output_type": "execute_result"
    }
   ],
   "source": [
    "y.shape"
   ]
  },
  {
   "cell_type": "code",
   "execution_count": 88,
   "id": "180b85c6-7364-4421-8e5f-912156f12524",
   "metadata": {
    "tags": []
   },
   "outputs": [
    {
     "name": "stdout",
     "output_type": "stream",
     "text": [
      "Accuracy: 0.4757433489827856\n"
     ]
    }
   ],
   "source": [
    "import pandas as pd\n",
    "from sklearn.model_selection import train_test_split\n",
    "from sklearn.svm import SVC\n",
    "from sklearn.metrics import accuracy_score\n",
    "\n",
    "# # Load your dataset (replace 'data.csv' with your dataset file)\n",
    "# data = pd.read_csv('data.csv')\n",
    "\n",
    "# # Assuming you have features in X and target variable in y\n",
    "# X = data.drop('target', axis=1)\n",
    "# y = data['target']\n",
    "\n",
    "# Split the data into training and testing sets (80% train, 20% test)\n",
    "X_train, X_test, y_train, y_test = train_test_split(X, y, test_size=0.2, random_state=42)\n",
    "\n",
    "# Create the SVM classifier with different options\n",
    "# Example options: kernel='linear', C=1.0, gamma='scale', class_weight='balanced'\n",
    "svm_model = SVC(kernel='rbf', C=1.0, gamma='scale', class_weight='balanced')\n",
    "\n",
    "# svm_model = SVC(kernel='rbf', C=1.0, gamma='scale', class_weight='balanced')\n",
    "\n",
    "\n",
    "# C=1.0, kernel='rbf',\n",
    "\n",
    "# Train the SVM model on the training data\n",
    "svm_model.fit(X_train, y_train)\n",
    "\n",
    "# Make predictions on the test data\n",
    "y_pred = svm_model.predict(X_test)\n",
    "\n",
    "# Calculate the accuracy of the model\n",
    "accuracy = accuracy_score(y_test, y_pred)\n",
    "print(\"Accuracy:\", accuracy)\n"
   ]
  },
  {
   "cell_type": "markdown",
   "id": "b9555b26-f53b-43f3-9898-39c50b8c5fe3",
   "metadata": {},
   "source": [
    "## Create Pickle Model"
   ]
  },
  {
   "cell_type": "code",
   "execution_count": 89,
   "id": "a511b838-1400-4180-a2ab-d75aa94e66f3",
   "metadata": {
    "tags": []
   },
   "outputs": [
    {
     "name": "stdout",
     "output_type": "stream",
     "text": [
      "Accuracy: 0.8278560250391236\n",
      "Classification Report:\n",
      "              precision    recall  f1-score   support\n",
      "\n",
      "           0       0.81      0.89      0.85       703\n",
      "           1       0.85      0.75      0.80       575\n",
      "\n",
      "    accuracy                           0.83      1278\n",
      "   macro avg       0.83      0.82      0.82      1278\n",
      "weighted avg       0.83      0.83      0.83      1278\n",
      "\n",
      "Confusion Matrix:\n",
      "[[625  78]\n",
      " [142 433]]\n"
     ]
    }
   ],
   "source": [
    "import pandas as pd\n",
    "from sklearn.model_selection import train_test_split\n",
    "from sklearn.ensemble import RandomForestClassifier\n",
    "from sklearn.metrics import accuracy_score, classification_report, confusion_matrix\n",
    "\n",
    "\n",
    "# Split the data into training and testing sets (80% train, 20% test)\n",
    "X_train, X_test, y_train, y_test = train_test_split(X, y, test_size=0.2, random_state=42)\n",
    "\n",
    "# Create the Random Forest classifier\n",
    "rf_model = RandomForestClassifier()\n",
    "\n",
    "# ... Your code to fit the RandomForestClassifier ...\n",
    "\n",
    "with warnings.catch_warnings():\n",
    "    warnings.simplefilter(\"ignore\")\n",
    "    # Make predictions with the RandomForestClassifier\n",
    "\n",
    "# Train the Random Forest model on the training data\n",
    "rf_model.fit(X_train, y_train)\n",
    "\n",
    "# Make predictions on the test data\n",
    "y_pred = rf_model.predict(X_test)\n",
    "\n",
    "# Calculate the accuracy of the model\n",
    "accuracy = accuracy_score(y_test, y_pred)\n",
    "print(\"Accuracy:\", accuracy)\n",
    "\n",
    "# Print the classification report and confusion matrix\n",
    "print(\"Classification Report:\")\n",
    "print(classification_report(y_test, y_pred))\n",
    "\n",
    "print(\"Confusion Matrix:\")\n",
    "print(confusion_matrix(y_test, y_pred))\n"
   ]
  },
  {
   "cell_type": "markdown",
   "id": "5defec74-1f93-45a9-bf4e-0d9084223364",
   "metadata": {
    "tags": []
   },
   "source": [
    "#### Save the model to a pickle file using joblib"
   ]
  },
  {
   "cell_type": "code",
   "execution_count": 90,
   "id": "53b238b6-b0bb-44c1-a518-bd965ed93b51",
   "metadata": {
    "tags": []
   },
   "outputs": [],
   "source": [
    "import pickle\n",
    "from joblib import dump, load"
   ]
  },
  {
   "cell_type": "code",
   "execution_count": 91,
   "id": "dcee944c-3f61-4858-a3ab-ddbefd80b4d5",
   "metadata": {
    "tags": []
   },
   "outputs": [
    {
     "data": {
      "text/plain": [
       "['diab_pickle.joblib']"
      ]
     },
     "execution_count": 91,
     "metadata": {},
     "output_type": "execute_result"
    }
   ],
   "source": [
    "dump(rf_model, 'diab_pickle.joblib')"
   ]
  },
  {
   "cell_type": "code",
   "execution_count": 92,
   "id": "4faceea2-60c0-488f-8b52-88989d1c6165",
   "metadata": {
    "tags": []
   },
   "outputs": [],
   "source": [
    "rf_model = load('diab_pickle.joblib') "
   ]
  },
  {
   "cell_type": "markdown",
   "id": "bb3efdc7-b02d-4796-945f-4d315334b41e",
   "metadata": {
    "tags": []
   },
   "source": [
    "#### Save the model to a pickle file using joblib"
   ]
  },
  {
   "cell_type": "code",
   "execution_count": 93,
   "id": "810abb49-2df6-4f66-88b5-eee9da1f04a5",
   "metadata": {
    "tags": []
   },
   "outputs": [],
   "source": [
    "import pickle\n",
    "from joblib import dump, load"
   ]
  },
  {
   "cell_type": "code",
   "execution_count": 94,
   "id": "80e5f4cf-edba-4072-ac75-06141b71ec2e",
   "metadata": {
    "tags": []
   },
   "outputs": [
    {
     "data": {
      "text/plain": [
       "['diab_pickle.pkl']"
      ]
     },
     "execution_count": 94,
     "metadata": {},
     "output_type": "execute_result"
    }
   ],
   "source": [
    "dump(rf_model, 'diab_pickle.pkl')"
   ]
  },
  {
   "cell_type": "code",
   "execution_count": 95,
   "id": "e8c2a81a-9335-4e3a-853c-99951a2693cf",
   "metadata": {
    "tags": []
   },
   "outputs": [],
   "source": [
    "rf_model = load('diab_pickle.pkl') "
   ]
  },
  {
   "cell_type": "markdown",
   "id": "7adabe61-76e8-4d8a-a419-87cead0777a5",
   "metadata": {},
   "source": [
    "## Prediction"
   ]
  },
  {
   "cell_type": "code",
   "execution_count": 32,
   "id": "51a5e8d5-91ee-421e-a3c7-a406b0f93279",
   "metadata": {
    "tags": []
   },
   "outputs": [],
   "source": [
    "# diab_pickle.pkl"
   ]
  },
  {
   "cell_type": "code",
   "execution_count": 99,
   "id": "94f47d8e-5ede-42a8-b46b-b2024731d85d",
   "metadata": {
    "tags": []
   },
   "outputs": [
    {
     "name": "stdout",
     "output_type": "stream",
     "text": [
      "Patient_ID    1.001000e+15\n",
      "Age           4.000000e+01\n",
      "SBP           1.210000e+02\n",
      "BMI           2.480000e+01\n",
      "LDL           2.600000e+00\n",
      "HDL           1.500000e+00\n",
      "TG            8.000000e-01\n",
      "FBS           5.100000e+00\n",
      "Name: 2041, dtype: float64\n",
      "Patient will not have diabetes.\n"
     ]
    },
    {
     "name": "stderr",
     "output_type": "stream",
     "text": [
      "/Users/abu/Documents/DataScience_10_F1/venv/lib/python3.10/site-packages/sklearn/base.py:420: UserWarning: X does not have valid feature names, but RandomForestClassifier was fitted with feature names\n",
      "  warnings.warn(\n"
     ]
    }
   ],
   "source": [
    "import pandas as pd\n",
    "import joblib\n",
    "\n",
    "# Load the trained model from a pickle file\n",
    "loaded_model = joblib.load('diab_pickle.pkl')\n",
    "\n",
    "# Assuming you have features in X_train and target in y_train\n",
    "features = data.drop('Diabetes', axis=1)  # Features used during training\n",
    "\n",
    "# Get the specific row (e.g., row at index 0) as input data\n",
    "specific_row_index = 2041\n",
    "specific_row_data = features.iloc[specific_row_index]  # A single row as a Series\n",
    "\n",
    "# Convert the row data to a 2D array (needed for prediction)\n",
    "input_data = specific_row_data.values.reshape(1, -1)\n",
    "\n",
    "# Make predictions using the loaded model\n",
    "prediction = loaded_model.predict(input_data)\n",
    "\n",
    "with warnings.catch_warnings():\n",
    "    warnings.simplefilter(\"ignore\")\n",
    "\n",
    "print(specific_row_data)\n",
    "\n",
    "    # If statement to check the age\n",
    "if prediction == 0:\n",
    "    print(\"Patient will not have diabetes.\")\n",
    "else:\n",
    "    print(\"Patient will have diabetes.\")\n",
    "\n",
    "# print(\"Prediction:\", prediction)\n"
   ]
  },
  {
   "cell_type": "code",
   "execution_count": 138,
   "id": "eb3070fa-28ac-4617-8a33-71d672a9e4b2",
   "metadata": {
    "tags": []
   },
   "outputs": [
    {
     "name": "stdout",
     "output_type": "stream",
     "text": [
      "Prediction: [0]\n"
     ]
    },
    {
     "name": "stderr",
     "output_type": "stream",
     "text": [
      "/Users/abu/Documents/DataScience_10_F1/venv/lib/python3.10/site-packages/sklearn/base.py:420: UserWarning: X does not have valid feature names, but RandomForestClassifier was fitted with feature names\n",
      "  warnings.warn(\n"
     ]
    }
   ],
   "source": [
    "import pandas as pd\n",
    "import joblib\n",
    "\n",
    "# Load the trained model from a pickle file\n",
    "loaded_model = joblib.load('diab_pickle.pkl')\n",
    "\n",
    "# Assuming you have features in X_train and target in y_train\n",
    "X_train = df.drop('Diabetes', axis=1)  # Features used during training\n",
    "\n",
    "# Get the specific row (e.g., row at index 0) as input data\n",
    "specific_row_index = 2041\n",
    "specific_row_data = X_train.iloc[specific_row_index]  # A single row as a Series\n",
    "\n",
    "# Convert the row data to a 2D array (needed for prediction)\n",
    "input_data = specific_row_data.values.reshape(1, -1)\n",
    "\n",
    "# Make predictions using the loaded model\n",
    "prediction = loaded_model.predict(input_data)\n",
    "\n",
    "print(\"Prediction:\", prediction)\n"
   ]
  },
  {
   "cell_type": "code",
   "execution_count": null,
   "id": "ac6e53ce-408a-4f32-b5e5-c587d8745bf9",
   "metadata": {},
   "outputs": [],
   "source": []
  }
 ],
 "metadata": {
  "kernelspec": {
   "display_name": "Python 3 (ipykernel)",
   "language": "python",
   "name": "python3"
  },
  "language_info": {
   "codemirror_mode": {
    "name": "ipython",
    "version": 3
   },
   "file_extension": ".py",
   "mimetype": "text/x-python",
   "name": "python",
   "nbconvert_exporter": "python",
   "pygments_lexer": "ipython3",
   "version": "3.10.10"
  },
  "toc-autonumbering": true,
  "toc-showtags": true
 },
 "nbformat": 4,
 "nbformat_minor": 5
}
